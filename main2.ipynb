{
 "cells": [
  {
   "cell_type": "code",
   "execution_count": null,
   "metadata": {},
   "outputs": [],
   "source": [
    "\n",
    "\"\"\"\n",
    "Main code\n",
    "\"\"\"\n",
    "import pandas as pd\n",
    "#import numpy as np\n",
    "import seaborn.objects as so\n",
    "from matplotlib import style\n",
    "\n",
    "# Download World Development Indicators\n",
    "def development(data): \n",
    "    data = pd.read_csv(\"https://media.githubusercontent.com/media/nickeubank/'\\\n",
    "    ’MIDS_Data/master/World_Development_Indicators/wdi_small_tidy_2015.csv\")\n",
    "    data.describe()\n",
    "    return data[\"Adolescent fertility rate (births per 1,000 women ages 15-19)\"].describe().loc['mean']\n",
    "\n",
    "# generate Plot\n",
    "\n",
    "def plot(data):\n",
    "    my_chart = (so.Plot(data, x=\"Mortality rate, infant (per 1,000 live births)\", \n",
    "    y=\"GDP per capita (constant 2010 US$)\")\n",
    "    .add(so.Line(), so.PolyFit(order=2))\n",
    "    .add(so.Dot())\n",
    "    .label(title=\"Log GDP and infat Mortality\")\n",
    "    .theme({**style.library[\"seaborn-whitegrid\"]}))\n",
    "    my_chart.show()"
   ]
  }
 ],
 "metadata": {
  "language_info": {
   "name": "python"
  },
  "orig_nbformat": 4
 },
 "nbformat": 4,
 "nbformat_minor": 2
}
